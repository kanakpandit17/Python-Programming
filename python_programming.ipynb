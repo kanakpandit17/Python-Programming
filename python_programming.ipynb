{
  "nbformat": 4,
  "nbformat_minor": 0,
  "metadata": {
    "colab": {
      "provenance": [],
      "authorship_tag": "ABX9TyOHFNVnIgrt8mg+FUd8MDs0",
      "include_colab_link": true
    },
    "kernelspec": {
      "name": "python3",
      "display_name": "Python 3"
    },
    "language_info": {
      "name": "python"
    }
  },
  "cells": [
    {
      "cell_type": "markdown",
      "metadata": {
        "id": "view-in-github",
        "colab_type": "text"
      },
      "source": [
        "<a href=\"https://colab.research.google.com/github/kanakpandit17/Python-Programming/blob/main/python_programming.ipynb\" target=\"_parent\"><img src=\"https://colab.research.google.com/assets/colab-badge.svg\" alt=\"Open In Colab\"/></a>"
      ]
    },
    {
      "cell_type": "markdown",
      "source": [
        "https://www.youtube.com/watch?v=UrsmFxEIp5k&t=26597s"
      ],
      "metadata": {
        "id": "Rr1Tg6wcTLlo"
      }
    },
    {
      "cell_type": "markdown",
      "source": [
        "10-07"
      ],
      "metadata": {
        "id": "ZLYjux9LW_2G"
      }
    },
    {
      "cell_type": "markdown",
      "source": [
        "REPL stands for Read Evaluate Print Loop. It's an interactive programming environment that allows you to enter and execute commands directly. Here’s what each part means:\n",
        "\n",
        "Read: It reads the input you provide.\n",
        "Evaluate: It evaluates the input.\n",
        "Print: It prints the result of the evaluation.\n",
        "Loop: It repeats this process in a continuous loop, allowing you to enter new commands or expressions after seeing the result of the previous one.."
      ],
      "metadata": {
        "id": "frzToxi8Wohd"
      }
    },
    {
      "cell_type": "markdown",
      "source": [
        "In Python, f is used to create f-strings, which are formatted string literals. .F-strings provide a concise and readable way to embed expressions inside string literals, using curly braces {} to evaluate expressions and format values within a string.."
      ],
      "metadata": {
        "id": "kgVmQFnQXlJE"
      }
    },
    {
      "cell_type": "code",
      "execution_count": null,
      "metadata": {
        "id": "nDuKoK_gW9Hj",
        "colab": {
          "base_uri": "https://localhost:8080/"
        },
        "outputId": "6b7121b3-b930-48ea-e54a-b6b66ef892ab"
      },
      "outputs": [
        {
          "output_type": "stream",
          "name": "stdout",
          "text": [
            "5* 1 = 5\n",
            "5* 2 = 10\n",
            "5* 3 = 15\n",
            "5* 4 = 20\n",
            "5* 5 = 25\n",
            "5* 6 = 30\n",
            "5* 7 = 35\n",
            "5* 8 = 40\n",
            "5* 9 = 45\n",
            "5* 10 = 50\n"
          ]
        }
      ],
      "source": [
        "def multiplication(num,limit):\n",
        "  for i in range(1,limit+1):\n",
        "    print(f\"{num}* {i} = {num*i}\")\n",
        "\n",
        "multiplication(5,10)"
      ]
    },
    {
      "cell_type": "markdown",
      "source": [
        "20-07-2024"
      ],
      "metadata": {
        "id": "lGNKduxWsPRv"
      }
    },
    {
      "cell_type": "markdown",
      "source": [
        "All String Operations"
      ],
      "metadata": {
        "id": "MrLxP9iMsdje"
      }
    },
    {
      "cell_type": "code",
      "source": [
        "str1 = \"Hello\"\n",
        "str2 = \"World\"\n",
        "result = str1 + \" \" + str2\n",
        "print(result)  # Output: Hello World"
      ],
      "metadata": {
        "id": "1jlVqvy6W-fF",
        "colab": {
          "base_uri": "https://localhost:8080/"
        },
        "outputId": "46fcbb8f-cd48-4448-c6ba-833e92dde752"
      },
      "execution_count": null,
      "outputs": [
        {
          "output_type": "stream",
          "name": "stdout",
          "text": [
            "Hello World\n"
          ]
        }
      ]
    },
    {
      "cell_type": "code",
      "source": [
        "str1 = \"Hello\"\n",
        "result = str1 * 3\n",
        "print(result)  # Output: HelloHelloHello.\n"
      ],
      "metadata": {
        "id": "U9G8yfYBsoo7",
        "outputId": "774bb530-2d67-4353-cfc1-3268a2c545ca",
        "colab": {
          "base_uri": "https://localhost:8080/"
        }
      },
      "execution_count": null,
      "outputs": [
        {
          "output_type": "stream",
          "name": "stdout",
          "text": [
            "HelloHelloHello\n"
          ]
        }
      ]
    },
    {
      "cell_type": "code",
      "source": [
        "str1 = \"Hello\"\n",
        "print(len(str1))  # Output: 5\n"
      ],
      "metadata": {
        "id": "BhXMsmgDsore",
        "outputId": "49da937d-bb1d-4548-a780-1d8dfa2322b2",
        "colab": {
          "base_uri": "https://localhost:8080/"
        }
      },
      "execution_count": null,
      "outputs": [
        {
          "output_type": "stream",
          "name": "stdout",
          "text": [
            "5\n"
          ]
        }
      ]
    },
    {
      "cell_type": "code",
      "source": [
        "str1 = \"Hello\"\n",
        "print(str1[1])  # Output: e"
      ],
      "metadata": {
        "id": "8UJWfTdnsouD",
        "outputId": "a0c571f2-a733-4c02-8ae2-2bc7888a4f54",
        "colab": {
          "base_uri": "https://localhost:8080/"
        }
      },
      "execution_count": null,
      "outputs": [
        {
          "output_type": "stream",
          "name": "stdout",
          "text": [
            "e\n"
          ]
        }
      ]
    },
    {
      "cell_type": "code",
      "source": [
        "str1 = \"Hello World\"\n",
        "print(str1[0:5])   # Output: Hello\n",
        "print(str1[6:])    # Output: World\n",
        "print(str1[-5:])   # Output: World\n"
      ],
      "metadata": {
        "id": "nI8UZ-d9sowI",
        "outputId": "8a0409f2-3178-4bcc-8c59-a46285862463",
        "colab": {
          "base_uri": "https://localhost:8080/"
        }
      },
      "execution_count": null,
      "outputs": [
        {
          "output_type": "stream",
          "name": "stdout",
          "text": [
            "Hello\n",
            "World\n",
            "World\n"
          ]
        }
      ]
    },
    {
      "cell_type": "code",
      "source": [
        "str1 = \"Hello\"\n",
        "print(str1[::-1])  # Output: olleH\n"
      ],
      "metadata": {
        "id": "NOQuyarKsoyZ",
        "outputId": "aa0102d5-b2e3-444c-f45b-c68070420bfd",
        "colab": {
          "base_uri": "https://localhost:8080/"
        }
      },
      "execution_count": null,
      "outputs": [
        {
          "output_type": "stream",
          "name": "stdout",
          "text": [
            "olleH\n"
          ]
        }
      ]
    },
    {
      "cell_type": "code",
      "source": [
        "str1 = \"Hello World\"\n",
        "print(str1.upper())  # Output: HELLO WORLD\n",
        "print(str1.lower())  # Output: hello world"
      ],
      "metadata": {
        "id": "XMtYTwmKsnJt",
        "outputId": "bfe0798e-119b-4e05-b2fd-aaffb85b9aa7",
        "colab": {
          "base_uri": "https://localhost:8080/"
        }
      },
      "execution_count": null,
      "outputs": [
        {
          "output_type": "stream",
          "name": "stdout",
          "text": [
            "HELLO WORLD\n",
            "hello world\n"
          ]
        }
      ]
    },
    {
      "cell_type": "code",
      "source": [
        "str1 = \"hello world\"\n",
        "print(str1.title())  # Output: Hello World"
      ],
      "metadata": {
        "id": "0_MAzvoEs39z",
        "outputId": "7e863656-7589-4fcc-93f5-c08dbbf59818",
        "colab": {
          "base_uri": "https://localhost:8080/"
        }
      },
      "execution_count": null,
      "outputs": [
        {
          "output_type": "stream",
          "name": "stdout",
          "text": [
            "Hello World\n"
          ]
        }
      ]
    },
    {
      "cell_type": "code",
      "source": [
        "str1 = \"hello world\"\n",
        "print(str1.title())  # Output:  Hello World"
      ],
      "metadata": {
        "id": "keum7znTs4AP",
        "outputId": "48f1aea6-cb25-4f93-8e4f-db35c99792ae",
        "colab": {
          "base_uri": "https://localhost:8080/"
        }
      },
      "execution_count": null,
      "outputs": [
        {
          "output_type": "stream",
          "name": "stdout",
          "text": [
            "Hello World\n"
          ]
        }
      ]
    },
    {
      "cell_type": "code",
      "source": [
        "str1 = \"  Hello World  \"\n",
        "print(str1.strip())  # Output: Hello World\n"
      ],
      "metadata": {
        "id": "xbLDXFV8s4C6",
        "outputId": "6c4a6e89-f517-40bd-b6e6-20cce4a56a6e",
        "colab": {
          "base_uri": "https://localhost:8080/"
        }
      },
      "execution_count": null,
      "outputs": [
        {
          "output_type": "stream",
          "name": "stdout",
          "text": [
            "Hello World\n"
          ]
        }
      ]
    },
    {
      "cell_type": "code",
      "source": [
        "str1 = \"Hello World\"\n",
        "print(str1.replace(\"World\", \"Python\"))  # Output: Hello Python\n"
      ],
      "metadata": {
        "id": "erdFImeMs4Fd",
        "outputId": "cf0836f8-ae20-4596-f74b-975cc1b8cea9",
        "colab": {
          "base_uri": "https://localhost:8080/"
        }
      },
      "execution_count": null,
      "outputs": [
        {
          "output_type": "stream",
          "name": "stdout",
          "text": [
            "Hello Python\n"
          ]
        }
      ]
    },
    {
      "cell_type": "code",
      "source": [
        "str1 = \"Hello World\"\n",
        "print(str1.split())  # Output: ['Hello', 'World']\n"
      ],
      "metadata": {
        "id": "sGoaB6V0s4Hx",
        "outputId": "ce83f254-5e24-4d7a-b77f-ee24a65dddca",
        "colab": {
          "base_uri": "https://localhost:8080/"
        }
      },
      "execution_count": null,
      "outputs": [
        {
          "output_type": "stream",
          "name": "stdout",
          "text": [
            "['Hello', 'World']\n"
          ]
        }
      ]
    },
    {
      "cell_type": "code",
      "source": [
        "list1 = [\"Hello\", \"World\"]\n",
        "print(\" \".join(list1))  # Output: Hello World\n"
      ],
      "metadata": {
        "id": "W5yfgHJusnMR",
        "outputId": "aa4b3ac8-e114-4ea6-cfc8-acc24cd252ea",
        "colab": {
          "base_uri": "https://localhost:8080/"
        }
      },
      "execution_count": null,
      "outputs": [
        {
          "output_type": "stream",
          "name": "stdout",
          "text": [
            "Hello World\n"
          ]
        }
      ]
    },
    {
      "cell_type": "code",
      "source": [
        "str1 = \"Hello World\"\n",
        "print(str1.startswith(\"Hello\"))  # Output: True\n",
        "print(str1.endswith(\"World\"))    # Output: True\n"
      ],
      "metadata": {
        "id": "pDF3gUJutCJ3",
        "outputId": "f53fbd7b-8c04-4fd4-cb8d-e00438ecef38",
        "colab": {
          "base_uri": "https://localhost:8080/"
        }
      },
      "execution_count": null,
      "outputs": [
        {
          "output_type": "stream",
          "name": "stdout",
          "text": [
            "True\n",
            "True\n"
          ]
        }
      ]
    },
    {
      "cell_type": "code",
      "source": [
        "str1 = \"Hello World\"\n",
        "print(str1.find(\"World\"))  # Output: 6\n",
        "print(str1.index(\"World\")) # Output: 6\n"
      ],
      "metadata": {
        "id": "l-p8rEGctCMW"
      },
      "execution_count": null,
      "outputs": []
    },
    {
      "cell_type": "code",
      "source": [
        "name = \"John\"\n",
        "age = 30\n",
        "print(\"My name is {} and I am {} years old\".format(name, age))\n",
        "# Output: My name is John and I am 30 years old\n"
      ],
      "metadata": {
        "id": "4K2hUM3LtCOr",
        "outputId": "23a93f04-27c4-4c05-837f-d9cd74ef7814",
        "colab": {
          "base_uri": "https://localhost:8080/"
        }
      },
      "execution_count": null,
      "outputs": [
        {
          "output_type": "stream",
          "name": "stdout",
          "text": [
            "My name is John and I am 30 years old\n"
          ]
        }
      ]
    },
    {
      "cell_type": "code",
      "source": [
        "name = \"John\"\n",
        "age = 30\n",
        "print(f\"My name is {name} and I am {age} years old\")\n",
        "# Output: My name is John and I am 30 years old\n"
      ],
      "metadata": {
        "id": "yYK8ZlbAta83",
        "outputId": "0be2b0b5-0d1d-49ee-ba98-13f8c0da5d26",
        "colab": {
          "base_uri": "https://localhost:8080/"
        }
      },
      "execution_count": null,
      "outputs": [
        {
          "output_type": "stream",
          "name": "stdout",
          "text": [
            "My name is John and I am 30 years old\n"
          ]
        }
      ]
    },
    {
      "cell_type": "code",
      "source": [
        "str1 = \"Hello\"\n",
        "str2 = \"12345\"\n",
        "str3 = \"Hello123\"\n",
        "\n",
        "print(str1.isalpha())  # Output: True\n",
        "print(str2.isdigit())  # Output: True\n",
        "print(str3.isalnum())  # Output: True\n"
      ],
      "metadata": {
        "id": "5C7X2WyAta_i",
        "outputId": "0034d438-5914-465c-c804-367613364628",
        "colab": {
          "base_uri": "https://localhost:8080/"
        }
      },
      "execution_count": null,
      "outputs": [
        {
          "output_type": "stream",
          "name": "stdout",
          "text": [
            "True\n",
            "True\n",
            "True\n"
          ]
        }
      ]
    },
    {
      "cell_type": "code",
      "source": [
        "str1 = \"Hello World\"\n",
        "print(str1.swapcase())  # Output: hELLO wORLD\n"
      ],
      "metadata": {
        "id": "PS2QLOKntbCW",
        "outputId": "973aa365-384b-44b2-ea26-edc3700b73cb",
        "colab": {
          "base_uri": "https://localhost:8080/"
        }
      },
      "execution_count": null,
      "outputs": [
        {
          "output_type": "stream",
          "name": "stdout",
          "text": [
            "hELLO wORLD\n"
          ]
        }
      ]
    },
    {
      "cell_type": "code",
      "source": [
        "str1 = \"   Hello World   \"\n",
        "print(str1.lstrip())  # Output: \"Hello World   \"\n",
        "\n",
        "str2 = \"###Hello###\"\n",
        "print(str2.lstrip(\"#\"))  # Output: \"Hello###\"\n"
      ],
      "metadata": {
        "id": "_YUS2f_4tbEs",
        "outputId": "75e4389e-be5c-4c8d-f194-e99345f26e98",
        "colab": {
          "base_uri": "https://localhost:8080/"
        }
      },
      "execution_count": null,
      "outputs": [
        {
          "output_type": "stream",
          "name": "stdout",
          "text": [
            "Hello World   \n",
            "Hello###\n"
          ]
        }
      ]
    },
    {
      "cell_type": "code",
      "source": [
        "str1 = \"   Hello World   \"\n",
        "print(str1.rstrip())  # Output: \"   Hello World\"\n",
        "\n",
        "str2 = \"###Hello###\"\n",
        "print(str2.rstrip(\"#\"))  # Output: \"###Hello\"\n"
      ],
      "metadata": {
        "id": "J9LNmch6tCRQ",
        "outputId": "ec812a49-9b01-4de1-85e3-bd8ef9be8b59",
        "colab": {
          "base_uri": "https://localhost:8080/"
        }
      },
      "execution_count": null,
      "outputs": [
        {
          "output_type": "stream",
          "name": "stdout",
          "text": [
            "   Hello World\n",
            "###Hello\n"
          ]
        }
      ]
    },
    {
      "cell_type": "code",
      "source": [
        "str1 = \"   Hello World   \"\n",
        "print(str1.strip())  # Output: \"Hello World\"\n",
        "\n",
        "str2 = \"###Hello###\"\n",
        "print(str2.strip(\"#\"))  # Output: \"Hello\"\n"
      ],
      "metadata": {
        "id": "XNd55cOLsnOz",
        "outputId": "2a20f1d3-7a85-4ac9-c4d2-c6d43898a755",
        "colab": {
          "base_uri": "https://localhost:8080/"
        }
      },
      "execution_count": null,
      "outputs": [
        {
          "output_type": "stream",
          "name": "stdout",
          "text": [
            "Hello World\n",
            "Hello\n"
          ]
        }
      ]
    },
    {
      "cell_type": "markdown",
      "source": [
        "02-08-2024"
      ],
      "metadata": {
        "id": "UlwQsrBHKsAY"
      }
    },
    {
      "cell_type": "markdown",
      "source": [
        "Variables"
      ],
      "metadata": {
        "id": "Fq4xsWrHQrjn"
      }
    },
    {
      "cell_type": "code",
      "source": [
        "_a='12'#Variable name can start with underscore\n",
        "_a"
      ],
      "metadata": {
        "colab": {
          "base_uri": "https://localhost:8080/",
          "height": 36
        },
        "id": "ORqaPzdLQsC3",
        "outputId": "32aff921-ca80-4ab8-eee3-f23409505911"
      },
      "execution_count": null,
      "outputs": [
        {
          "output_type": "execute_result",
          "data": {
            "text/plain": [
              "'12'"
            ],
            "application/vnd.google.colaboratory.intrinsic+json": {
              "type": "string"
            }
          },
          "metadata": {},
          "execution_count": 10
        }
      ]
    },
    {
      "cell_type": "code",
      "source": [
        "1a=_12 #var name cant start with digit"
      ],
      "metadata": {
        "colab": {
          "base_uri": "https://localhost:8080/",
          "height": 106
        },
        "id": "n6buQJ7DRI-W",
        "outputId": "94ab9a7e-48c0-44c9-a5aa-d4919bc292b8"
      },
      "execution_count": null,
      "outputs": [
        {
          "output_type": "error",
          "ename": "SyntaxError",
          "evalue": "invalid decimal literal (<ipython-input-9-587149e685bb>, line 1)",
          "traceback": [
            "\u001b[0;36m  File \u001b[0;32m\"<ipython-input-9-587149e685bb>\"\u001b[0;36m, line \u001b[0;32m1\u001b[0m\n\u001b[0;31m    1a=_12\u001b[0m\n\u001b[0m    ^\u001b[0m\n\u001b[0;31mSyntaxError\u001b[0m\u001b[0;31m:\u001b[0m invalid decimal literal\n"
          ]
        }
      ]
    },
    {
      "cell_type": "code",
      "source": [
        "a='8one '\n",
        "a"
      ],
      "metadata": {
        "colab": {
          "base_uri": "https://localhost:8080/",
          "height": 36
        },
        "id": "keAHPz-YRLRT",
        "outputId": "6ba58c67-39d1-4f74-8601-261c4d4e645d"
      },
      "execution_count": null,
      "outputs": [
        {
          "output_type": "execute_result",
          "data": {
            "text/plain": [
              "'8one '"
            ],
            "application/vnd.google.colaboratory.intrinsic+json": {
              "type": "string"
            }
          },
          "metadata": {},
          "execution_count": 8
        }
      ]
    },
    {
      "cell_type": "code",
      "source": [
        "1 a='j' #Var name cant have whitespace\n",
        "1 a"
      ],
      "metadata": {
        "colab": {
          "base_uri": "https://localhost:8080/",
          "height": 106
        },
        "id": "wRkgZTLnSC6f",
        "outputId": "5dec2c8c-edf8-47ff-e0c1-e1b99656862c"
      },
      "execution_count": null,
      "outputs": [
        {
          "output_type": "error",
          "ename": "SyntaxError",
          "evalue": "invalid syntax (<ipython-input-11-21174f998097>, line 1)",
          "traceback": [
            "\u001b[0;36m  File \u001b[0;32m\"<ipython-input-11-21174f998097>\"\u001b[0;36m, line \u001b[0;32m1\u001b[0m\n\u001b[0;31m    1 a='j' #Var name cant have whitespace\u001b[0m\n\u001b[0m      ^\u001b[0m\n\u001b[0;31mSyntaxError\u001b[0m\u001b[0;31m:\u001b[0m invalid syntax\n"
          ]
        }
      ]
    },
    {
      "cell_type": "markdown",
      "source": [
        "Operators"
      ],
      "metadata": {
        "id": "kMvuQjmGK3rd"
      }
    },
    {
      "cell_type": "code",
      "source": [
        "a=input(\"Enter no a:\")\n",
        "b=input(\"Enter no b:\")\n",
        "print(a+b)"
      ],
      "metadata": {
        "colab": {
          "base_uri": "https://localhost:8080/"
        },
        "id": "--vDFCnaKrMa",
        "outputId": "903c523a-b372-473d-e743-4ed23e16fc92"
      },
      "execution_count": null,
      "outputs": [
        {
          "output_type": "stream",
          "name": "stdout",
          "text": [
            "Enter no a:1\n",
            "Enter no b:2\n",
            "12\n"
          ]
        }
      ]
    },
    {
      "cell_type": "code",
      "source": [
        "a=int(input(\"Enter no a:\"))\n",
        "b=int(input(\"Enter no b:\"))\n",
        "print(a+b)"
      ],
      "metadata": {
        "colab": {
          "base_uri": "https://localhost:8080/"
        },
        "id": "NZiZPI2sKrQC",
        "outputId": "2efd7c09-7630-40af-d247-d2fcfda1ed42"
      },
      "execution_count": null,
      "outputs": [
        {
          "output_type": "stream",
          "name": "stdout",
          "text": [
            "Enter no a:1\n",
            "Enter no b:2\n",
            "3\n"
          ]
        }
      ]
    },
    {
      "cell_type": "code",
      "source": [
        "print(str(31))\n",
        "print(int('31'))\n",
        "print(float('31.0'))"
      ],
      "metadata": {
        "colab": {
          "base_uri": "https://localhost:8080/"
        },
        "id": "fjHZkpOMKrRQ",
        "outputId": "b2c4a9fe-8df4-4856-c130-576d1199574a"
      },
      "execution_count": null,
      "outputs": [
        {
          "output_type": "stream",
          "name": "stdout",
          "text": [
            "31\n",
            "31\n",
            "31.0\n"
          ]
        }
      ]
    },
    {
      "cell_type": "markdown",
      "source": [
        "Strings"
      ],
      "metadata": {
        "id": "zEnVb78wTRbe"
      }
    },
    {
      "cell_type": "code",
      "source": [
        "name='Harry'\n",
        "name=\"Harry\"\n",
        "name='''Harry'''"
      ],
      "metadata": {
        "id": "IZgTDX80KrTd"
      },
      "execution_count": null,
      "outputs": []
    },
    {
      "cell_type": "code",
      "source": [
        "name[-4:-1]"
      ],
      "metadata": {
        "colab": {
          "base_uri": "https://localhost:8080/",
          "height": 36
        },
        "id": "phj-jLDAKrWv",
        "outputId": "128ca023-5375-4e03-b1fc-406762645a7a"
      },
      "execution_count": null,
      "outputs": [
        {
          "output_type": "execute_result",
          "data": {
            "text/plain": [
              "'arr'"
            ],
            "application/vnd.google.colaboratory.intrinsic+json": {
              "type": "string"
            }
          },
          "metadata": {},
          "execution_count": 16
        }
      ]
    },
    {
      "cell_type": "code",
      "source": [
        "name[-1:-4] #left index should be smaller than right index"
      ],
      "metadata": {
        "id": "KJxom_yHT0ko",
        "outputId": "c46e80d2-2c5b-4c5e-ea65-e7e70d1ac59f",
        "colab": {
          "base_uri": "https://localhost:8080/",
          "height": 36
        }
      },
      "execution_count": null,
      "outputs": [
        {
          "output_type": "execute_result",
          "data": {
            "text/plain": [
              "''"
            ],
            "application/vnd.google.colaboratory.intrinsic+json": {
              "type": "string"
            }
          },
          "metadata": {},
          "execution_count": 17
        }
      ]
    },
    {
      "cell_type": "code",
      "source": [
        "word=\"amazing\"  #Very important\n",
        "word[1::2]"
      ],
      "metadata": {
        "id": "prqP38Y7T3Vt",
        "outputId": "426caa72-633f-4be1-c908-13c7ed6f33e0",
        "colab": {
          "base_uri": "https://localhost:8080/",
          "height": 36
        }
      },
      "execution_count": null,
      "outputs": [
        {
          "output_type": "execute_result",
          "data": {
            "text/plain": [
              "'mzn'"
            ],
            "application/vnd.google.colaboratory.intrinsic+json": {
              "type": "string"
            }
          },
          "metadata": {},
          "execution_count": 18
        }
      ]
    },
    {
      "cell_type": "markdown",
      "source": [
        "String functions"
      ],
      "metadata": {
        "id": "3peJGScsWJWG"
      }
    },
    {
      "cell_type": "code",
      "source": [
        "text = \"Hello, World!\"\n",
        "length = len(text)\n",
        "print(length)  # Output: 13"
      ],
      "metadata": {
        "id": "bHqW4D_5WKNY",
        "outputId": "4acc1f36-29fc-4c83-bc5b-c021d59f22c4",
        "colab": {
          "base_uri": "https://localhost:8080/"
        }
      },
      "execution_count": null,
      "outputs": [
        {
          "output_type": "stream",
          "name": "stdout",
          "text": [
            "13\n"
          ]
        }
      ]
    },
    {
      "cell_type": "code",
      "source": [
        "text = \"Hello, World!\"\n",
        "lowercase_text = text.lower()\n",
        "print(lowercase_text)  # Output: \"hello, world!\"\n"
      ],
      "metadata": {
        "id": "frqA201RWLTY",
        "outputId": "a8eea863-f01f-401e-f089-9a9c85bdba28",
        "colab": {
          "base_uri": "https://localhost:8080/"
        }
      },
      "execution_count": null,
      "outputs": [
        {
          "output_type": "stream",
          "name": "stdout",
          "text": [
            "hello, world!\n"
          ]
        }
      ]
    },
    {
      "cell_type": "code",
      "source": [
        "text = \"Hello, World!\"\n",
        "uppercase_text = text.upper()\n",
        "print(uppercase_text)  # Output: \"HELLO, WORLD!\"\n"
      ],
      "metadata": {
        "id": "-2soCeLfWOS6",
        "outputId": "99f91cff-e86d-40d0-d349-8129dce2fa84",
        "colab": {
          "base_uri": "https://localhost:8080/"
        }
      },
      "execution_count": null,
      "outputs": [
        {
          "output_type": "stream",
          "name": "stdout",
          "text": [
            "HELLO, WORLD!\n"
          ]
        }
      ]
    },
    {
      "cell_type": "code",
      "source": [
        "text = \"  Hello, World!  \"  #Removes leading and trailing whitespace.\n",
        "stripped_text = text.strip()\n",
        "print(stripped_text)  # Output: \"Hello, World!\""
      ],
      "metadata": {
        "id": "g_otHrqFWOVn",
        "outputId": "3432fa1d-f5ce-460d-dc05-987db37381a2",
        "colab": {
          "base_uri": "https://localhost:8080/"
        }
      },
      "execution_count": null,
      "outputs": [
        {
          "output_type": "stream",
          "name": "stdout",
          "text": [
            "Hello, World!\n"
          ]
        }
      ]
    },
    {
      "cell_type": "code",
      "source": [
        "text = \"apple,banana,cherry\"\n",
        "fruits = text.split(\",\")\n",
        "print(fruits)  # Output: ['apple', 'banana', 'cherry']\n"
      ],
      "metadata": {
        "id": "DlhJ3831WQyx",
        "outputId": "277c0cce-8157-420e-fd0c-8de806c3ce9a",
        "colab": {
          "base_uri": "https://localhost:8080/"
        }
      },
      "execution_count": null,
      "outputs": [
        {
          "output_type": "stream",
          "name": "stdout",
          "text": [
            "['apple', 'banana', 'cherry']\n"
          ]
        }
      ]
    },
    {
      "cell_type": "code",
      "source": [
        "text = \"I like apples\"\n",
        "new_text = text.replace(\"apples\", \"oranges\")\n",
        "print(new_text)  # Output: \"I like oranges\"\n"
      ],
      "metadata": {
        "id": "rIpaufZhWQ1Q",
        "outputId": "378525f1-abc0-45b6-bbc3-e6eab466baff",
        "colab": {
          "base_uri": "https://localhost:8080/"
        }
      },
      "execution_count": null,
      "outputs": [
        {
          "output_type": "stream",
          "name": "stdout",
          "text": [
            "I like oranges\n"
          ]
        }
      ]
    },
    {
      "cell_type": "code",
      "source": [
        "text = \"Hello, World!\"\n",
        "index = text.find(\"World\")\n",
        "print(index)  # Output: 7\n",
        "\n",
        "index_not_found = text.find(\"Python\")\n",
        "print(index_not_found)  # Output: -1\n"
      ],
      "metadata": {
        "id": "53oATiCwWjgj",
        "outputId": "00ad71e4-6c07-41a2-e0fd-98b832e8962e",
        "colab": {
          "base_uri": "https://localhost:8080/"
        }
      },
      "execution_count": null,
      "outputs": [
        {
          "output_type": "stream",
          "name": "stdout",
          "text": [
            "7\n",
            "-1\n"
          ]
        }
      ]
    },
    {
      "cell_type": "code",
      "source": [
        "text = \"Hello, World!\"\n",
        "starts_with_hello = text.startswith(\"Hello\")\n",
        "print(starts_with_hello)  # Output: True\n",
        "\n",
        "starts_with_hi = text.startswith(\"Hi\")\n",
        "print(starts_with_hi)  # Output: False\n"
      ],
      "metadata": {
        "id": "hoWayq58WjjX",
        "outputId": "325a7593-7d81-4c20-d7e1-9edd5ee85b77",
        "colab": {
          "base_uri": "https://localhost:8080/"
        }
      },
      "execution_count": null,
      "outputs": [
        {
          "output_type": "stream",
          "name": "stdout",
          "text": [
            "True\n",
            "False\n"
          ]
        }
      ]
    },
    {
      "cell_type": "code",
      "source": [
        "text = \"Hello, World!\"\n",
        "ends_with_world = text.endswith(\"World!\")\n",
        "print(ends_with_world)  # Output: True\n",
        "\n",
        "ends_with_exclamation = text.endswith(\"!\")\n",
        "print(ends_with_exclamation)  # Output: True\n"
      ],
      "metadata": {
        "id": "BJCFhV8zWjnQ",
        "outputId": "298ef892-3fa3-4e50-da3b-017a122b63fc",
        "colab": {
          "base_uri": "https://localhost:8080/"
        }
      },
      "execution_count": null,
      "outputs": [
        {
          "output_type": "stream",
          "name": "stdout",
          "text": [
            "True\n",
            "True\n"
          ]
        }
      ]
    },
    {
      "cell_type": "code",
      "source": [
        "words = [\"Hello\", \"World\", \"Python\"]\n",
        "sentence = \" \".join(words)\n",
        "print(sentence)  # Output: \"Hello World Python\"\n",
        "\n",
        "comma_separated = \", \".join(words)\n",
        "print(comma_separated)  # Output: \"Hello, World, Python\"\n"
      ],
      "metadata": {
        "id": "3bKu5HDHWQ4F",
        "outputId": "3538991d-c80c-43e0-ffcf-c67dabf5c6ac",
        "colab": {
          "base_uri": "https://localhost:8080/"
        }
      },
      "execution_count": null,
      "outputs": [
        {
          "output_type": "stream",
          "name": "stdout",
          "text": [
            "Hello World Python\n",
            "Hello, World, Python\n"
          ]
        }
      ]
    },
    {
      "cell_type": "code",
      "source": [
        "number = \"12345\"\n",
        "is_digit = number.isdigit()\n",
        "print(is_digit)  # Output: True\n",
        "\n",
        "mixed_text = \"12345abc\"\n",
        "is_digit_mixed = mixed_text.isdigit()\n",
        "print(is_digit_mixed)  # Output: False\n"
      ],
      "metadata": {
        "id": "ZMfg6pn-W0U2",
        "outputId": "b4c05fc6-31f2-49fc-c297-4e89c871e49e",
        "colab": {
          "base_uri": "https://localhost:8080/"
        }
      },
      "execution_count": null,
      "outputs": [
        {
          "output_type": "stream",
          "name": "stdout",
          "text": [
            "True\n",
            "False\n"
          ]
        }
      ]
    },
    {
      "cell_type": "code",
      "source": [
        "text = \"hello\"\n",
        "print(text.upper())  # Output: \"HELLO\"\n",
        "\n",
        "text = \"HELLO\"\n",
        "print(text.lower())  # Output: \"hello\"\n",
        "\n",
        "text = \"hello world\"\n",
        "print(text.title())  # Output: \"Hello World\"\n",
        "\n",
        "text = \"hello world\"\n",
        "print(text.capitalize())  # Output: \"Hello world\"\n",
        "\n",
        "text = \"  hello  \"\n",
        "print(text.strip())  # Output: \"hello\"\n",
        "\n",
        "text = \"xxhelloXX\"\n",
        "print(text.strip('xX'))  # Output: \"hello\"\n",
        "\n",
        "\n",
        "text = \"  hello\"\n",
        "print(text.lstrip())  # Output: \"hello\"\n",
        "\n",
        "text = \"xxhello\"\n",
        "print(text.lstrip('x'))  # Output: \"hello\"\n",
        "\n",
        "text = \"hello  \"\n",
        "print(text.rstrip())  # Output: \"hello\"\n",
        "\n",
        "text = \"helloXX\"\n",
        "print(text.rstrip('X'))  # Output: \"hello\"\n"
      ],
      "metadata": {
        "id": "T_67RjTgW0YC",
        "colab": {
          "base_uri": "https://localhost:8080/"
        },
        "outputId": "47b12188-9add-423a-ffcd-a790366e4c21"
      },
      "execution_count": null,
      "outputs": [
        {
          "output_type": "stream",
          "name": "stdout",
          "text": [
            "HELLO\n",
            "hello\n",
            "Hello World\n",
            "Hello world\n",
            "hello\n",
            "hello\n",
            "hello\n",
            "hello\n",
            "hello\n",
            "hello\n"
          ]
        }
      ]
    },
    {
      "cell_type": "code",
      "source": [
        "text = \"hello world\"\n",
        "print(text.find(\"world\"))  # Output: 6\n",
        "print(text.find(\"notfound\"))  # Output: -1\n",
        "\n",
        "text = \"hello world world\"\n",
        "print(text.rfind(\"world\"))  # Output: 12\n",
        "\n",
        "text = \"hello world world\"\n",
        "print(text.rindex(\"world\"))  # Output: 12\n",
        "# print(text.rindex(\"notfound\"))  # Raises ValueError\n",
        "\n",
        "text = \"hello world\"\n",
        "print(text.replace(\"world\", \"Python\"))  # Output: \"hello Python\"\n",
        "\n",
        "text = \"hello world python\"\n",
        "print(text.split())  # Output: ['hello', 'world', 'python']\n",
        "\n",
        "text = \"hello world python\"\n",
        "print(text.rsplit(' ', 1))  # Output: ['hello world', 'python']\n",
        "\n",
        "words = [\"hello\", \"world\"]\n",
        "print(\" \".join(words))  # Output: \"hello world\"\n",
        "\n",
        "text = \"42\"\n",
        "print(text.zfill(5))  # Output: \"00042\"\n"
      ],
      "metadata": {
        "id": "t4Wlb9stWOYG",
        "colab": {
          "base_uri": "https://localhost:8080/"
        },
        "outputId": "98520fab-4dfe-4d4e-c59a-7d0c0c860847"
      },
      "execution_count": null,
      "outputs": [
        {
          "output_type": "stream",
          "name": "stdout",
          "text": [
            "6\n",
            "-1\n",
            "12\n",
            "12\n",
            "hello Python\n",
            "['hello', 'world', 'python']\n",
            "['hello world', 'python']\n",
            "hello world\n",
            "00042\n"
          ]
        }
      ]
    },
    {
      "cell_type": "code",
      "source": [
        "text = \"hello\"\n",
        "print(text.isalpha())  # Output: True\n",
        "\n",
        "text = \"Hello World\"\n",
        "print(text.istitle())  # Output: True\n",
        "\n",
        "text = \"HELLO\"\n",
        "print(text.isupper())  # Output: True\n",
        "\n",
        "text = \"   \"\n",
        "print(text.isspace())  # Output: True\n"
      ],
      "metadata": {
        "colab": {
          "base_uri": "https://localhost:8080/"
        },
        "id": "nkhHE6ZCNksi",
        "outputId": "73f2133b-8afc-42ca-fd39-3e67e6a447fa"
      },
      "execution_count": null,
      "outputs": [
        {
          "output_type": "stream",
          "name": "stdout",
          "text": [
            "True\n",
            "True\n",
            "True\n",
            "True\n"
          ]
        }
      ]
    },
    {
      "cell_type": "code",
      "source": [
        "print(\"Harry is a \\\"bad\\\" boy\")"
      ],
      "metadata": {
        "colab": {
          "base_uri": "https://localhost:8080/"
        },
        "id": "nN8Nbd54NkvJ",
        "outputId": "02e79086-5838-4275-af78-a84221e3e744"
      },
      "execution_count": null,
      "outputs": [
        {
          "output_type": "stream",
          "name": "stdout",
          "text": [
            "Harry is a \"bad\" boy\n"
          ]
        }
      ]
    },
    {
      "cell_type": "code",
      "source": [
        "name= input(\"Enter your name:\")\n",
        "print(\"Hello\",name)\n",
        "print(f\"Hello {name}\")\n"
      ],
      "metadata": {
        "colab": {
          "base_uri": "https://localhost:8080/"
        },
        "id": "nCURQ0ocNkxd",
        "outputId": "f489f448-e38b-4cf3-a539-54507c123c55"
      },
      "execution_count": null,
      "outputs": [
        {
          "output_type": "stream",
          "name": "stdout",
          "text": [
            "Enter your name:dd\n",
            "Hello dd\n",
            "Hello dd\n"
          ]
        }
      ]
    },
    {
      "cell_type": "markdown",
      "source": [
        "1. List\n",
        "Definition: A list is an ordered, mutable (changeable) collection of elements that can contain duplicates. Lists are often used when you want to maintain the order of items and need to modify the collection over time.\n",
        "\n",
        "Key Features:\n",
        "1. Ordered: The items have a defined order.\n",
        "2. Mutable: You can change the items after the list is created.\n",
        "3. Can contain duplicate elements."
      ],
      "metadata": {
        "id": "krOBlKgg0FMn"
      }
    },
    {
      "cell_type": "code",
      "source": [
        "# Creating a list\n",
        "my_list = [1, 2, 3, 4, 5]\n",
        "\n",
        "# Accessing elements\n",
        "print(my_list[0])  # Output: 1\n",
        "\n",
        "# Modifying elements\n",
        "my_list[2] = 10\n",
        "\n",
        "# Adding elements\n",
        "my_list.append(6)\n",
        "\n",
        "# Removing elements\n",
        "my_list.remove(2)\n",
        "\n",
        "print(my_list)  # Output: [1, 10, 4, 5, 6]."
      ],
      "metadata": {
        "colab": {
          "base_uri": "https://localhost:8080/"
        },
        "id": "rzMDLMePUwLG",
        "outputId": "40de907d-2c21-440a-afd3-75e4a7b13e35"
      },
      "execution_count": null,
      "outputs": [
        {
          "output_type": "stream",
          "name": "stdout",
          "text": [
            "1\n",
            "[1, 10, 4, 5, 6]\n"
          ]
        }
      ]
    },
    {
      "cell_type": "markdown",
      "source": [
        "2. Sets Definition: A set is an unordered, mutable collection of unique elements. Sets are useful when you want to store unique items and are concerned with membership tests (checking if an item is in the set).\n",
        "\n",
        "Key Features:\n",
        "1. Unordered: There is no defined order for the elements.\n",
        "2. Mutable: You can change the items after the set is created.\n",
        "3. No duplicate elements allowed."
      ],
      "metadata": {
        "id": "C3SSFNpy0UrO"
      }
    },
    {
      "cell_type": "code",
      "source": [
        "# Creating a set\n",
        "my_set = {1, 2, 3, 4, 5}\n",
        "\n",
        "# Adding elements\n",
        "my_set.add(6)\n",
        "\n",
        "# Removing elements\n",
        "my_set.remove(2)\n",
        "\n",
        "# Checking membership\n",
        "print(3 in my_set)  # Output: True\n",
        "\n",
        "# Sets automatically remove duplicates\n",
        "my_set.add(3)  # No effect because 3 is already in the set\n",
        "\n",
        "print(my_set)  # Output: {1, 3, 4, 5, 6}\n"
      ],
      "metadata": {
        "colab": {
          "base_uri": "https://localhost:8080/"
        },
        "id": "eSqdviB7UwNo",
        "outputId": "bb963172-b6d1-4a59-fe96-77e3e6289cf5"
      },
      "execution_count": null,
      "outputs": [
        {
          "output_type": "stream",
          "name": "stdout",
          "text": [
            "True\n",
            "{1, 3, 4, 5, 6}\n"
          ]
        }
      ]
    },
    {
      "cell_type": "markdown",
      "source": [
        "3. Dictionary\n",
        "Definition: A dictionary is an unordered, mutable collection of key-value pairs. Each key is unique, and it maps to a specific value. Dictionaries are useful for associating pieces of data together, like storing information in a lookup table.\n",
        "\n",
        "Key Features:\n",
        "1. Unordered: There is no defined order for the key-value pairs (in Python 3.7+, dictionaries maintain insertion order, but it’s still technically unordered).\n",
        "2. Mutable: You can change the items after the dictionary is created.\n",
        "3. Keys must be unique."
      ],
      "metadata": {
        "id": "HvUmR41V0d6p"
      }
    },
    {
      "cell_type": "code",
      "source": [
        "# Creating a dictionary\n",
        "my_dict = {'name': 'Alice', 'age': 25, 'city': 'New York'}\n",
        "\n",
        "# Accessing values\n",
        "print(my_dict['name'])  # Output: Alice\n",
        "\n",
        "# Modifying values\n",
        "my_dict['age'] = 26\n",
        "\n",
        "# Adding key-value pairs\n",
        "my_dict['email'] = 'alice@example.com'\n",
        "\n",
        "# Removing key-value pairs\n",
        "del my_dict['city']\n",
        "\n",
        "print(my_dict)  # Output: {'name': 'Alice', 'age': 26, 'email': 'alice@example.com'}\n"
      ],
      "metadata": {
        "colab": {
          "base_uri": "https://localhost:8080/"
        },
        "id": "rMct_OCrUwQE",
        "outputId": "79dc2a4d-e72c-46b5-e78d-7930781865b9"
      },
      "execution_count": null,
      "outputs": [
        {
          "output_type": "stream",
          "name": "stdout",
          "text": [
            "Alice\n",
            "{'name': 'Alice', 'age': 26, 'email': 'alice@example.com'}\n"
          ]
        }
      ]
    },
    {
      "cell_type": "markdown",
      "source": [
        "4. Tuple\n",
        "Definition: A tuple is an ordered, immutable collection of elements. Once a tuple is created, you cannot change its elements. Tuples are useful when you want to create a collection of items that should not change throughout the program.\n",
        "\n",
        "Key Features:\n",
        "1. Ordered: The items have a defined order.\n",
        "2. Immutable: Once created, the elements cannot be changed.\n",
        "3. Can contain duplicate elements."
      ],
      "metadata": {
        "id": "CLitdlnN0vGm"
      }
    },
    {
      "cell_type": "code",
      "source": [
        "# Creating a tuple below\n",
        "my_tuple = (1, 2, 3, 4, 5)\n",
        "\n",
        "# Accessing elements\n",
        "print(my_tuple[0])  # Output: 1\n",
        "\n",
        "# Tuples cannot be modified\n",
        "# my_tuple[2] = 10  # This will raise a TypeError\n",
        "\n",
        "# Tuples can contain duplicate elements\n",
        "another_tuple = (1, 2, 2, 3)\n",
        "\n",
        "# You can access the same way as lists\n",
        "print(another_tuple[1])  # Output: 2\n"
      ],
      "metadata": {
        "colab": {
          "base_uri": "https://localhost:8080/"
        },
        "id": "G1wVuitxNk2L",
        "outputId": "8a6c6f29-9be3-43a6-f7b6-a2d0b7ad696e"
      },
      "execution_count": null,
      "outputs": [
        {
          "output_type": "stream",
          "name": "stdout",
          "text": [
            "1\n",
            "2\n"
          ]
        }
      ]
    },
    {
      "cell_type": "code",
      "source": [
        "# Integer Division\n",
        "a = 10\n",
        "b = 3\n",
        "int_div = a // b\n",
        "print(f\"Integer Division (//): {int_div}\")  # Output: 3\n",
        "\n",
        "# Float Division\n",
        "float_div = a / b\n",
        "print(f\"Float Division (/): {float_div}\")  # Output: 3.3333333333333335\n",
        "\n",
        "# Modulus Operation\n",
        "modulus = a % b\n",
        "print(f\"Modulus (%): {modulus}\")  # Output: 1\n",
        "\n",
        "# Floor Division with Negative Numbers\n",
        "neg_int_div = -10 // 3\n",
        "print(f\"Negative Integer Division (//): {neg_int_div}\")  # Output: -4\n",
        "\n",
        "# Floating-Point Precision\n",
        "float_div_precision = 1 / 3\n",
        "print(f\"Floating-Point Precision: {float_div_precision}\")  # Output: 0.3333333333333333\n"
      ],
      "metadata": {
        "id": "2_TZ6pjkGqS9",
        "outputId": "3d466da0-af5f-45ce-fe39-3099c76112b5",
        "colab": {
          "base_uri": "https://localhost:8080/"
        }
      },
      "execution_count": null,
      "outputs": [
        {
          "output_type": "stream",
          "name": "stdout",
          "text": [
            "Integer Division (//): 3\n",
            "Float Division (/): 3.3333333333333335\n",
            "Modulus (%): 1\n",
            "Negative Integer Division (//): -4\n",
            "Floating-Point Precision: 0.3333333333333333\n"
          ]
        }
      ]
    },
    {
      "cell_type": "code",
      "source": [
        "print(\"Abc\") #Print Abc"
      ],
      "metadata": {
        "id": "-G0uWR02GqVQ",
        "outputId": "66e59e3b-8657-4cff-dbe8-c948ffe2ce35",
        "colab": {
          "base_uri": "https://localhost:8080/"
        }
      },
      "execution_count": null,
      "outputs": [
        {
          "output_type": "stream",
          "name": "stdout",
          "text": [
            "Abc\n"
          ]
        }
      ]
    },
    {
      "cell_type": "code",
      "source": [],
      "metadata": {
        "id": "2PT4ST8WGqXt"
      },
      "execution_count": null,
      "outputs": []
    }
  ]
}