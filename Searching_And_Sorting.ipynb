{
  "nbformat": 4,
  "nbformat_minor": 0,
  "metadata": {
    "colab": {
      "provenance": [],
      "authorship_tag": "ABX9TyM7yFjuLUe07PX2I37iQWdx",
      "include_colab_link": true
    },
    "kernelspec": {
      "name": "python3",
      "display_name": "Python 3"
    },
    "language_info": {
      "name": "python"
    }
  },
  "cells": [
    {
      "cell_type": "markdown",
      "metadata": {
        "id": "view-in-github",
        "colab_type": "text"
      },
      "source": [
        "<a href=\"https://colab.research.google.com/github/kanakpandit17/Python-Programming/blob/main/Searching_And_Sorting.ipynb\" target=\"_parent\"><img src=\"https://colab.research.google.com/assets/colab-badge.svg\" alt=\"Open In Colab\"/></a>"
      ]
    },
    {
      "cell_type": "markdown",
      "source": [
        "Searching And Sorting"
      ],
      "metadata": {
        "id": "r-v99VWvbr5W"
      }
    },
    {
      "cell_type": "markdown",
      "source": [
        "Searching Techniques\n",
        "1. Linear Search: Simple but slow for large arrays.\n",
        "2. Binary Search: Faster but requires a sorted array.\n",
        "3. Jump Search: A step-based search for sorted arrays.\n",
        "4. Interpolation Search: Efficient for uniformly distributed values.\n",
        "5. Exponential Search: Combines binary search with range discovery.\n",
        "6. Fibonacci Search: A more niche method using Fibonacci numbers\n",
        "\n",
        "Sorting Techniques\n",
        "1. Bubble Sort: Repeatedly steps through the list, compares adjacent elements, and swaps them if they are in the wrong order. It's simple but inefficient for large datasets.\n",
        "2. Selection Sort: Divides the list into a sorted and unsorted region. It repeatedly selects the smallest (or largest) element from the unsorted region and moves it to the end of the sorted region.\n",
        "3. Insertion Sort: Builds the final sorted array one item at a time. It takes each element from the unsorted list and inserts it into the correct position in the sorted part.\n",
        "4. Merge Sort: A divide-and-conquer algorithm that splits the list into halves, sorts them recursively, and then merges the sorted halves back together. It’s efficient and stable.\n",
        "5. Quick Sort: Another divide-and-conquer algorithm that selects a 'pivot' element and partitions the array into elements less than and greater than the pivot. It sorts the partitions recursively.\n",
        "6. Heap Sort: Utilizes a binary heap data structure. It builds a heap from the input data and repeatedly extracts the maximum (or minimum) element from the heap and rebuilds it.\n",
        "7. Radix Sort: A non-comparative integer sorting algorithm that sorts numbers digit by digit. It works well for fixed-length integer keys.\n",
        "8. Counting Sort: Efficient for sorting small ranges of integers. It counts the occurrences of each integer and uses that information to place them in the correct position.\n",
        "9. Tim Sort: A hybrid sorting algorithm derived from merge sort and insertion sort, it’s used in Python's built-in sort() method. It’s efficient for real-world data."
      ],
      "metadata": {
        "id": "YgKgwkpYb53W"
      }
    },
    {
      "cell_type": "markdown",
      "source": [
        "1. Linear Search\n",
        "Linear Search: Detailed Explanation\n",
        "Definition:\n",
        "Linear Search is a simple searching algorithm that checks each element of the list/array sequentially until it finds the target element (key) or reaches the end of the list.\n",
        "\n",
        "Working:\n",
        "Start from the first element of the list.\n",
        "Compare the current element with the target element.\n",
        "If the current element matches the target element, return its index.\n",
        "If the current element doesn't match, move to the next element.\n",
        "Continue this process until the element is found or you reach the end of the list.\n",
        "If the element is not found after checking all elements, return a failure indicator (e.g., -1).\n",
        "\n",
        "Advantages:\n",
        "-Simple to implement.\n",
        "-Works for both sorted and unsorted arrays.\n",
        "-No need for preprocessing (like sorting).\n",
        "\n",
        "Disadvantages:\n",
        "-Inefficient for large datasets, as it scans the entire array in the worst case.\n",
        "\n",
        "Time Complexity:\n",
        "Best Case: O(1)\n",
        "If the target element is found at the first position.\n",
        "\n",
        "Worst Case: O(n)\n",
        "If the target element is found at the last position or doesn't exist in the array at all.\n",
        "\n",
        "Average Case: O(n)\n",
        "On average, you'll need to check half of the elements before finding the target, so it’s proportional to the size of the list.\n",
        "\n",
        "Space Complexity:\n",
        "O(1)\n",
        "Linear search uses a constant amount of extra space (only a few variables), regardless of the size of the input.\n"
      ],
      "metadata": {
        "id": "aRpC725ndFUp"
      }
    },
    {
      "cell_type": "code",
      "execution_count": null,
      "metadata": {
        "colab": {
          "base_uri": "https://localhost:8080/"
        },
        "id": "b6gMoWJ2bnYL",
        "outputId": "d8741f0e-e5cf-4e55-e0a4-b12609ed937e"
      },
      "outputs": [
        {
          "output_type": "stream",
          "name": "stdout",
          "text": [
            "3\n"
          ]
        }
      ],
      "source": [
        "#Linear Search\n",
        "def linear_search(arr, target):\n",
        "  for i in range(len(arr)):\n",
        "    if arr[i] == target:\n",
        "      return i\n",
        "\n",
        "  return -1\n",
        "\n",
        "if __name__ == \"__main__\":\n",
        "  arr=[1,2,3,4,5,6,7]\n",
        "  target=4\n",
        "  result = linear_search(arr,target)\n",
        "  print(result)\n"
      ]
    },
    {
      "cell_type": "markdown",
      "source": [
        "2. Binary Search\n",
        "Binary search is an efficient algorithm for finding the position of a target value in a sorted array. It works by repeatedly dividing the search interval in half and comparing the middle element with the target value. If the target is equal to the middle element, the search ends. If the target is smaller or larger, the search continues in the left or right half of the array, respectively.\n",
        "\n",
        "Steps of Binary Search:\n",
        "Start with the entire array as the search range.\n",
        "Find the middle element of the array.\n",
        "If the middle element matches the target, return its index.\n",
        "If the target is smaller than the middle element, narrow the search to the left half of the array.\n",
        "If the target is larger, narrow the search to the right half of the array.\n",
        "Repeat this process until the target is found or the search range becomes empty.\n",
        "\n",
        "Time Complexity:\n",
        "Best-case: O(1) (when the middle element is the target on the first try).\n",
        "Average-case and Worst-case: O(log n) (logarithmic time).\n",
        "\n",
        "In each iteration, the search range is halved, so the number of operations is proportional to the logarithm of the array size.\n",
        "For an array of size n, binary search will take at most log₂(n) comparisons.\n",
        "\n",
        "Space Complexity:\n",
        "\n",
        "-Iterative version: O(1) because only a few extra variables are used (left, right, mid).\n",
        "\n",
        "-Recursive version: O(log n) due to the memory used by the recursion stack.\n",
        "\n",
        "Advantages of Binary Search:\n",
        "-Efficiency: It is much faster than linear search for large datasets, especially when the data is sorted.\n",
        "-Logarithmic Time: The number of comparisons is greatly reduced (logarithmic scale).\n",
        "-Useful for Sorted Data: Ideal for applications where data is sorted and needs frequent searching.\n",
        "\n",
        "Disadvantages of Binary Search:\n",
        "-Requires a Sorted Array: The array must be sorted before applying binary search. Sorting an unsorted array would add time complexity.\n",
        "-Not Suitable for Linked Lists: Binary search requires direct access to elements by index, which is inefficient in linked lists.\n",
        "-Complexity: Slightly more complex to implement compared to linear search."
      ],
      "metadata": {
        "id": "SC3-HYXFfyBL"
      }
    },
    {
      "cell_type": "code",
      "source": [
        "#iterative binary search\n",
        "def iterative_binary_search(arr,target):\n",
        "  left=0\n",
        "  right=len(arr)-1\n",
        "  while left<=right:\n",
        "    mid = (left+right)//2\n",
        "    if arr[mid] == target:\n",
        "      return mid\n",
        "    elif arr[mid]> target:\n",
        "      right = mid - 1\n",
        "    else:\n",
        "      left = mid + 1\n",
        "\n",
        "  return -1\n",
        "\n",
        "if __name__ == \"__main__\":\n",
        "  arr=[1,2,3,4,5,6,7]\n",
        "  target=4\n",
        "  result = iterative_binary_search(arr,target)\n",
        "  print(result)\n",
        "\n"
      ],
      "metadata": {
        "colab": {
          "base_uri": "https://localhost:8080/"
        },
        "id": "oqC4qrAmeKtd",
        "outputId": "4039937a-f441-455e-dfd9-676905050cd5"
      },
      "execution_count": null,
      "outputs": [
        {
          "output_type": "stream",
          "name": "stdout",
          "text": [
            "3\n"
          ]
        }
      ]
    },
    {
      "cell_type": "code",
      "source": [
        "#recursive binary search\n",
        "def recursive_binary_search(left,right,arr, target):\n",
        "  left=0\n",
        "  right=len(arr)-1\n",
        "  target\n",
        "  while left<=right:\n",
        "    mid=(left+right)//2\n",
        "    if arr[mid]==target:\n",
        "      return mid\n",
        "    elif arr[mid]>target:\n",
        "      right= recursive_binary_search(arr[mid]+1,right,arr, target)\n",
        "    else:\n",
        "      left = recursive_binary_search(left,arr[mid]-1,arr, target)\n",
        "  return -1\n",
        "\n",
        "if __name__==\"__main__\":\n",
        "  arr=[1,2,3,4,5,6,7]\n",
        "  target=4\n",
        "  result = recursive_binary_search(0,len(arr)-1 , arr,target)\n",
        "  print(result)\n",
        "\n",
        "\n"
      ],
      "metadata": {
        "id": "_CfHm4xXk1EH",
        "colab": {
          "base_uri": "https://localhost:8080/"
        },
        "outputId": "87f6442b-c246-498f-c5c5-123b6711126e"
      },
      "execution_count": null,
      "outputs": [
        {
          "output_type": "stream",
          "name": "stdout",
          "text": [
            "3\n"
          ]
        }
      ]
    },
    {
      "cell_type": "markdown",
      "source": [
        "Jump Sort, also known as Jump Search, is a searching algorithm designed for sorted arrays. It divides the array into blocks of a fixed size (known as the jump size) and searches for an element by jumping ahead by this block size until it finds a block that may contain the target. Then, it performs a linear search within that block.\n",
        "\n",
        "How Jump Search Works\n",
        "Determine Block Size:\n",
        "\n",
        "The optimal block size is generally calculated as\n",
        "root n\n",
        "\n",
        "\n",
        "Time Complexity\n",
        "1. Jump Phase:\n",
        "\n",
        "Jumping through the blocks takes 𝑂(root 𝑛) comparisons because you jump ahead by a fixed size.\n",
        "\n",
        "2. Linear Search Phase:\n",
        "\n",
        "The linear search within the block can take at most\n",
        "𝑂(root 𝑛) comparisons.\n",
        "Overall, the time complexity of Jump Search is:\n",
        "\n",
        "Space Complexity\n",
        "Jump Search only requires a constant amount of additional space for a few variables (like indices and block size), resulting in:\n",
        "Space Complexity:\n",
        "𝑂(1)\n",
        "\n",
        "Advantages of Jump Search\n",
        "1. Faster than Linear Search:\n",
        "For large datasets, Jump Search is faster than linear search because it reduces the number of comparisons needed.\n",
        "\n",
        "2. Simple Implementation:\n",
        "\n",
        "The algorithm is easy to implement and understand.\n",
        "Space Efficiency:\n",
        "It requires only a constant amount of additional space.\n",
        "\n",
        "Disadvantages of Jump Search\n",
        "1. Requires Sorted Array:\n",
        "Jump Search only works on sorted arrays, which may require preprocessing if the data is not already sorted.\n",
        "\n",
        "2. Less Efficient for Small Arrays:\n",
        "For small datasets, the overhead of calculating block sizes and jumping may make it slower than a simple linear search.\n",
        "\n",
        "3. Not Suitable for Linked Lists:\n",
        "Jump Search is designed for contiguous memory structures like arrays, making it less applicable for linked lists."
      ],
      "metadata": {
        "id": "xVM_5TWRqo_x"
      }
    },
    {
      "cell_type": "code",
      "source": [
        "def jump_search(arr, target):\n",
        "    block_size = int(len(arr) ** 0.5)  # Calculate block size using exponentiation (square root)\n",
        "    n = len(arr)  # Length of the array\n",
        "\n",
        "    # Jumping in blocks\n",
        "    for i in range(0, n, block_size):\n",
        "        # Check if we found the target or the current block exceeds the target\n",
        "        if arr[i] == target:\n",
        "            return i\n",
        "        elif arr[i] > target:\n",
        "            # Perform linear search in the previous block\n",
        "            for j in range(i - block_size, i):\n",
        "                if j >= 0 and arr[j] == target:\n",
        "                    return j\n",
        "            return -1\n",
        "\n",
        "    # If target is not found and we are beyond the final block\n",
        "    # Perform linear search in the final block\n",
        "    for i in range(n - block_size, n):\n",
        "        if i >= 0 and arr[i] == target:\n",
        "            return i\n",
        "\n",
        "    return -1\n",
        "\n",
        "if __name__ == \"__main__\":\n",
        "    arr = [1, 3, 5, 7, 9, 11, 13, 15, 17, 19]\n",
        "    target = 9\n",
        "    result = jump_search(arr, target)\n",
        "    print(result)  # Expected output: 4\n"
      ],
      "metadata": {
        "colab": {
          "base_uri": "https://localhost:8080/"
        },
        "id": "6RLU6glIo872",
        "outputId": "6e6dcdb7-5c1f-4542-dd42-3de8294263e6"
      },
      "execution_count": 4,
      "outputs": [
        {
          "output_type": "stream",
          "name": "stdout",
          "text": [
            "9\n"
          ]
        }
      ]
    },
    {
      "cell_type": "code",
      "source": [],
      "metadata": {
        "id": "sUa4B-9b5DjP"
      },
      "execution_count": null,
      "outputs": []
    }
  ]
}